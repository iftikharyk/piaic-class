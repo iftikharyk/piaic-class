{
 "cells": [
  {
   "cell_type": "code",
   "execution_count": 5,
   "metadata": {},
   "outputs": [
    {
     "name": "stdout",
     "output_type": "stream",
     "text": [
      "arrr => abc0\n",
      "arrr => abc1\n",
      "arrr => abc2\n",
      "arrr => abc3\n",
      "arrr => abc4\n",
      "not\n",
      "1st child  shane john\n",
      "last child  goofy john\n",
      "1st child  shane jeff\n",
      "last child  goofy jeff\n",
      "1st child  shane Ronald\n",
      "last child  goofy Ronald\n",
      "1st child  shane Harry\n",
      "last child  goofy Harry\n",
      "['shane john', 'root john', 'goofy john', 'shaggy john', 'shane jeff', 'root jeff', 'goofy jeff', 'shaggy jeff', 'shane Ronald', 'root Ronald', 'goofy Ronald', 'shaggy Ronald', 'shane Harry', 'root Harry', 'goofy Harry', 'shaggy Harry']\n"
     ]
    }
   ],
   "source": [
    "arr = [\"abc0\", \"abc1\", \"abc2\", \"abc3\", \"abc4\"]\n",
    "for a in arr:\n",
    "    print(\"arrr =>\", a)\n",
    "print(\"not\")\n",
    "\n",
    "\n",
    "fathers = [\"john\", \"jeff\", \"Ronald\", \"Harry\"]\n",
    "childern = [\"shane\", \"root\", \"goody\", \"shaggy\"]\n",
    "child_father = []\n",
    "index = 0\n",
    "#last = 3\n",
    "for father in fathers:\n",
    "    for child in childern:\n",
    "        child_father.append(child + \" \" + father)\n",
    "        \n",
    "    print(\"1st child \", child_father[index])\n",
    "    #print(\"last child \", child_father[last])\n",
    "    print(\"last child \", child_father[-2])\n",
    "    #print(child_father)\n",
    "    index += 4\n",
    "    #last += 4\n",
    "print(child_father)"
   ]
  },
  {
   "cell_type": "code",
   "execution_count": null,
   "metadata": {},
   "outputs": [],
   "source": []
  }
 ],
 "metadata": {
  "kernelspec": {
   "display_name": "Python 3",
   "language": "python",
   "name": "python3"
  },
  "language_info": {
   "codemirror_mode": {
    "name": "ipython",
    "version": 3
   },
   "file_extension": ".py",
   "mimetype": "text/x-python",
   "name": "python",
   "nbconvert_exporter": "python",
   "pygments_lexer": "ipython3",
   "version": "3.7.3"
  }
 },
 "nbformat": 4,
 "nbformat_minor": 2
}
